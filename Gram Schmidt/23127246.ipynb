{
 "cells": [
  {
   "cell_type": "markdown",
   "id": "89322cc6",
   "metadata": {},
   "source": [
    "<center><h1>TOÁN ỨNG DỤNG VÀ THỐNG KÊ</h1>\n",
    "<h2>Đồ án Gram-Schmidt</h2>\n",
    "<b>Họ và tên:</b> Nguyễn Trần Thiên Phú <br>\n",
    "<b>MSSV:</b> 23127246</center>"
   ]
  },
  {
   "cell_type": "markdown",
   "id": "ae8e2097",
   "metadata": {},
   "source": [
    "## Giải thuật\n",
    "\n",
    "### Phân rã QR với giải thuật Gram-Schmidt\n",
    "Cho tập các vector $\\boldsymbol{v}_1, \\boldsymbol{v}_2, ..., \\boldsymbol{v}_k \\in \\mathbb{R}^n$, **thuật giải Gram-Schmidt** (Gram-Schmidt algorithm) tìm họ trực chuẩn các vector $\\boldsymbol{q}_1, \\boldsymbol{q}_2, ..., \\boldsymbol{q}_r \\in \\mathbb{R}^n$ là một cơ sở của $\\mathrm{Span}\\{\\boldsymbol{v}_1, \\boldsymbol{v}_2, ..., \\boldsymbol{v}_k\\}$. Thuật giải gồm các bước:\n",
    "\n",
    "\n",
    "> **Bước 1.** Tạo tập $Q = \\{\\}$ chứa cơ sở kết quả.\n",
    "\n",
    "> **Bước 2.** Đặt $i = 1$ và lặp lại các Bước 3-4 cho đến khi $i > k$.\n",
    "\n",
    "> **Bước 3.** Tính \n",
    "> $$\n",
    "\\boldsymbol{q}_i = \\boldsymbol{v}_i - \\sum_{\\boldsymbol{q}_j \\in Q} \\frac{\\langle \\boldsymbol{v}_i, \\boldsymbol{q}_j \\rangle}{\\| \\boldsymbol{q}_j \\|^2}\\boldsymbol{q}_j\n",
    "$$\n",
    "\n",
    "> **Bước 4.** Nếu $\\boldsymbol{q}_i \\neq 0$ thì thêm $\\boldsymbol{q}_i$ vào $Q$. Tăng $i$ thêm $1$.\n",
    "\n",
    "> **Bước 5.** Chuẩn hóa tạo hệ trực chuẩn\n",
    "> $$\n",
    "\\boldsymbol{q}_i = \\frac{\\boldsymbol{q}_i}{\\| \\boldsymbol{q}_i \\|}, \\forall \\boldsymbol{q}_i \\in Q\n",
    "$$\n",
    "\n",
    "> **Bước 6.** Tạo ma trận R"
   ]
  },
  {
   "cell_type": "code",
   "execution_count": 7,
   "id": "0f3afb1d",
   "metadata": {},
   "outputs": [],
   "source": [
    "def print_matrix(matrix):\n",
    "    matrix = [[round(elem, 2) for elem in row] for row in matrix]\n",
    "\n",
    "    str_matrix = [[str(item) for item in row] for row in matrix]\n",
    "\n",
    "    num_cols = len(str_matrix[0])\n",
    "    col_widths = [0] * num_cols\n",
    "    for j in range(num_cols):\n",
    "        max_len = max(len(row[j]) for row in str_matrix)\n",
    "        col_widths[j] = max_len\n",
    "\n",
    "    # In ma trận đã được định dạng\n",
    "    num_rows = len(str_matrix)\n",
    "    for i, row in enumerate(str_matrix):\n",
    "        line_str = \"  \"\n",
    "        \n",
    "        if i == 0:\n",
    "            line_str += '┌'\n",
    "        elif i == num_rows - 1:\n",
    "            line_str += '└'\n",
    "        else:\n",
    "            line_str += '│'\n",
    "        \n",
    "        line_str += ' '\n",
    "        \n",
    "        for j, element in enumerate(row):\n",
    "            line_str += element.rjust(col_widths[j]) + '  '\n",
    "            \n",
    "        line_str = line_str.rstrip()\n",
    "        line_str += ' '\n",
    "\n",
    "        if i == 0:\n",
    "            line_str += '┐'\n",
    "        elif i == num_rows - 1:\n",
    "            line_str += '┘'\n",
    "        else:\n",
    "            line_str += '│'\n",
    "        \n",
    "        print(line_str)"
   ]
  },
  {
   "cell_type": "markdown",
   "id": "dee206de",
   "metadata": {},
   "source": [
    "## Bài 1: Giải thuật Gram-Schmidt"
   ]
  },
  {
   "cell_type": "code",
   "execution_count": 8,
   "id": "2deb60fe",
   "metadata": {},
   "outputs": [
    {
     "name": "stdout",
     "output_type": "stream",
     "text": [
      "Matrix A:\n",
      "  ┌  1.0  -1.0   2.0 ┐\n",
      "  │  1.0   0.0  -1.0 │\n",
      "  │ -1.0   1.0   2.0 │\n",
      "  └  0.0   1.0   1.0 ┘\n",
      "------------------------------\n",
      "Matrix Q:\n",
      "  ┌  0.58  -0.26   0.77 ┐\n",
      "  │  0.58   0.52  -0.26 │\n",
      "  │ -0.58   0.26   0.52 │\n",
      "  └   0.0   0.77   0.26 ┘\n",
      "------------------------------\n",
      "Matrix R:\n",
      "  ┌ 1.73  -1.15  -0.58 ┐\n",
      "  │  0.0   1.29   0.26 │\n",
      "  └  0.0    0.0    3.1 ┘\n"
     ]
    }
   ],
   "source": [
    "def transpose(A):\n",
    "    if not A:\n",
    "        return []\n",
    "    return [list(row) for row in zip(*A)]\n",
    "\n",
    "def dot_product(v1, v2):\n",
    "    return sum(x * y for x, y in zip(v1, v2))\n",
    "\n",
    "def vector_norm(v):\n",
    "    return dot_product(v, v) ** 0.5\n",
    "\n",
    "def scalar_multiply(scalar, v):\n",
    "    return [scalar * x for x in v]\n",
    "\n",
    "def vector_subtract(v1, v2):\n",
    "    return [x - y for x, y in zip(v1, v2)]\n",
    "\n",
    "def Gram_Schmidt(A):\n",
    "    A_cols = transpose(A)\n",
    "    m, n = len(A), len(A_cols)\n",
    "\n",
    "    Q_cols = []\n",
    "    R = [[0.0] * n for _ in range(n)]\n",
    "\n",
    "    for j in range(n):\n",
    "        u = A_cols[j][:]\n",
    "\n",
    "        for i in range(j):\n",
    "            q_i = Q_cols[i]\n",
    "            r_ij = dot_product(q_i, A_cols[j])\n",
    "            R[i][j] = r_ij\n",
    "            \n",
    "            projection = scalar_multiply(r_ij, q_i)\n",
    "            u = vector_subtract(u, projection)\n",
    "\n",
    "        norm_u = vector_norm(u)\n",
    "        \n",
    "        if norm_u < 1e-10:\n",
    "            raise ValueError(\"Ma trận đầu vào không độc lập tuyến tính !\")\n",
    "\n",
    "        R[j][j] = norm_u\n",
    "\n",
    "        q_j = scalar_multiply(1.0 / norm_u, u)\n",
    "        Q_cols.append(q_j)\n",
    "\n",
    "    Q = transpose(Q_cols)\n",
    "    \n",
    "    return Q, R\n",
    "\n",
    "A = [\n",
    "    [1.0, -1.0, 2.0],\n",
    "    [1.0, 0.0, -1.0],\n",
    "    [-1.0, 1.0, 2.0],\n",
    "    [0.0, 1.0, 1.0]\n",
    "]\n",
    "\n",
    "try:\n",
    "    print(\"Matrix A:\")\n",
    "    print_matrix(A)\n",
    "    print(\"-\"*30)\n",
    "    Q, R = Gram_Schmidt(A)   \n",
    "    print(\"Matrix Q:\")\n",
    "    print_matrix(Q)\n",
    "    print(\"-\"*30)\n",
    "    print(\"Matrix R:\")\n",
    "    print_matrix(R)\n",
    "\n",
    "except ValueError as e:\n",
    "    print(e)"
   ]
  },
  {
   "cell_type": "markdown",
   "id": "9a611772",
   "metadata": {},
   "source": [
    "## Bài 2: Mở rộng"
   ]
  },
  {
   "cell_type": "markdown",
   "id": "147b1345",
   "metadata": {},
   "source": [
    "#### So sánh giải thuật với hàm có sẵn trong thư viện NumPy"
   ]
  },
  {
   "cell_type": "code",
   "execution_count": 9,
   "id": "c7026cb6",
   "metadata": {},
   "outputs": [
    {
     "name": "stdout",
     "output_type": "stream",
     "text": [
      "\n",
      "Ma trận Q (từ thư viện):\n",
      "  ┌ -0.58   0.26  -0.77 ┐\n",
      "  │ -0.58  -0.52   0.26 │\n",
      "  │  0.58  -0.26  -0.52 │\n",
      "  └  -0.0  -0.77  -0.26 ┘\n",
      "\n",
      "Ma trận R (từ thư viện):\n",
      "  ┌ -1.73   1.15   0.58 ┐\n",
      "  │   0.0  -1.29  -0.26 │\n",
      "  └   0.0    0.0   -3.1 ┘\n"
     ]
    }
   ],
   "source": [
    "import numpy as np\n",
    "\n",
    "# Sử dụng lại ma trận A từ cell trước\n",
    "A = [\n",
    "    [1.0, -1.0, 2.0],\n",
    "    [1.0, 0.0, -1.0],\n",
    "    [-1.0, 1.0, 2.0],\n",
    "    [0.0, 1.0, 1.0]\n",
    "]\n",
    "\n",
    "# Phân rã QR bằng hàm có sẵn của NumPy\n",
    "Q_lib, R_lib = np.linalg.qr(A)\n",
    "print(\"\\nMa trận Q (từ thư viện):\")\n",
    "print_matrix(Q_lib)\n",
    "print(\"\\nMa trận R (từ thư viện):\")\n",
    "print_matrix(R_lib)"
   ]
  },
  {
   "cell_type": "markdown",
   "id": "1c450476",
   "metadata": {},
   "source": [
    "Nhận xét:\n",
    "- Ma trận Q trong giải thuật bằng ma trận Q từ thư viện nhân -1, tương tự với ma trận R nên tích 2 ma trận Q, R vẫn bằng ma trận A"
   ]
  },
  {
   "cell_type": "markdown",
   "id": "82eb2987",
   "metadata": {},
   "source": [
    "#### Ứng dụng của phân rã QR:\n",
    "\n",
    "##### 1. Giải hệ phương trình tuyến tính\n",
    "- **Ý tưởng:** Biến đổi hệ phương trình `Ax = b` thành `QRx = b`. Do `Q` là ma trận trực giao (`Q⁻¹ = Qᵀ`), ta có thể dễ dàng biến đổi nó thành `Rx = Qᵀb`.\n",
    "- **Lợi ích:** Hệ `Rx = Qᵀb` rất dễ giải bằng phương pháp **thế ngược** (back substitution) vì `R` là ma trận tam giác trên. Đây là một phương pháp ổn định hơn so với khử Gauss trong một số trường hợp.\n",
    "\n",
    "##### 2. Bài toán Bình phương Tối thiểu (Least Squares)\n",
    "- **Ứng dụng:** Rất phổ biến trong **hồi quy tuyến tính** và khớp dữ liệu, nơi ta cần tìm `x` để tối thiểu hóa sai số `||Ax - b||`.\n",
    "- **Lợi ích:** Thay vì giải qua phương trình chuẩn `AᵀAx = Aᵀb` (có thể gây mất mát độ chính xác), phân rã QR biến đổi bài toán thành tối thiểu hóa `||Rx - Qᵀb||`, một bài toán đơn giản và ổn định hơn về mặt số học.\n",
    "\n",
    "##### 3. Tính Trị riêng (Thuật toán QR)\n",
    "- **Ý tưởng:** **Thuật toán QR** là một phương pháp lặp để tìm tất cả các trị riêng của một ma trận.\n",
    "- **Quy trình:**\n",
    "  1. Bắt đầu với `A₀ = A`.\n",
    "  2. Lặp lại: Phân rã `Aₖ = QₖRₖ` và tính `Aₖ₊₁ = RₖQₖ`.\n",
    "- **Kết quả:** Dãy ma trận `Aₖ` sẽ hội tụ về một ma trận tam giác trên (hoặc ma trận đường chéo). Các phần tử trên đường chéo chính của ma trận hội tụ chính là các **trị riêng** của `A`."
   ]
  },
  {
   "cell_type": "markdown",
   "id": "26c7cff5",
   "metadata": {},
   "source": [
    "## Ý tưởng thực hiện và mô tả các hàm\n",
    "\n",
    "#### `Gram_Schmidt(A)`\n",
    "**Ý tưởng:** Hàm này mô tả lại quá trình phân rã QR sử dụng các phép tính liên quan tới vector qua các hàm phụ:\n",
    "- transpose(A): Đùng để tạo ra ma trận mới sao cho mỗi dòng là 1 cột của ma trận cũ\n",
    "- dot_product(v1,v2): Tích vô hướng 2 vector v1,v2\n",
    "- vector_norm(v): Độ dài vector v\n",
    "- scalar_multiply(scalar,v): Tích 1 vector với 1 số nguyên\n",
    "- vector_substract(v1,v2): Hiệu 2 vector <br>\n",
    "**Mô tả hoạt động:** \n",
    "1. Đầu vào là ma trận A sau đó chuyển thành ma trận chứa các hàng là cột của ma trận A\n",
    "2. Tính các vector cơ sở trực giao dựa vào công thức mô tả ở phần `Thuật toán` sau đó chuẩn hóa thành cơ sở trực chuẩn - Ma trận Q\n",
    "3. Dựa trên các vector cơ sở trực chuẩn tạo ma trận R với các giá trị R[i][j] là tích vô hướng của 2 vector $\\boldsymbol{q}_i$ and $\\boldsymbol{v}_j$ với j > i để tạo ma trận đường chéo trên\n",
    "\n"
   ]
  }
 ],
 "metadata": {
  "kernelspec": {
   "display_name": "Python 3",
   "language": "python",
   "name": "python3"
  },
  "language_info": {
   "codemirror_mode": {
    "name": "ipython",
    "version": 3
   },
   "file_extension": ".py",
   "mimetype": "text/x-python",
   "name": "python",
   "nbconvert_exporter": "python",
   "pygments_lexer": "ipython3",
   "version": "3.11.9"
  }
 },
 "nbformat": 4,
 "nbformat_minor": 5
}
