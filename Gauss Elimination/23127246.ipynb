{
 "cells": [
  {
   "cell_type": "markdown",
   "id": "1c74bcb4",
   "metadata": {},
   "source": [
    "<center><h1>TOÁN ỨNG DỤNG VÀ THỐNG KÊ</h1>\n",
    "<h2>Đồ án Gauss</h2>\n",
    "<b>Họ và tên:</b> Nguyễn Trần Thiên Phú <br>\n",
    "<b>MSSV:</b> 23127246</center>"
   ]
  },
  {
   "cell_type": "markdown",
   "id": "663fe680",
   "metadata": {},
   "source": [
    "## Giải thuật\n",
    "\n",
    "### 1. Khử Gauss (Gaussian Elimination)\n",
    "**Khử Gauss** là một thuật toán để biến đổi một ma trận về dạng bậc thang thông qua các phép biến đổi sơ cấp trên dòng. Thuật toán này áp dụng cho ma trận mở rộng của một hệ phương trình tuyến tính để đơn giản hóa việc tìm nghiệm.\n",
    "Các bước của thuật toán khử Gauss để đưa ma trận về dạng bậc thang:\n",
    "\n",
    "> **Bước 1:** Bắt đầu với cột đầu tiên từ bên trái không chứa toàn số 0.\n",
    "\n",
    "> **Bước 2:** Chọn một phần tử khác 0 trong cột này làm phần tử trục (pivot). Nếu phần tử ở hàng trên cùng của cột này là 0, hoán vị hàng đó với một hàng khác bên dưới để có phần tử trục khác 0. Tuy nhiên, trong bài làm đang hoán đổi với hàng có phần tử có giá trị tuyệt đối lớn nhất.\n",
    "\n",
    "> **Bước 3:** (Tùy chọn) Chuẩn hóa hàng chứa pivot bằng cách chia tất cả các phần tử của hàng đó cho giá trị của pivot. Kết quả là pivot sẽ có giá trị là 1 (gọi là số 1 dẫn đầu - leading 1).\n",
    "\n",
    "> **Bước 4:** Sử dụng các phép biến đổi dòng để biến tất cả các phần tử bên dưới pivot trong cùng một cột thành 0. Cụ thể, với mỗi hàng bên dưới hàng pivot, ta lấy chính nó trừ đi hàng pivot nhân với một hệ số thích hợp.\n",
    "\n",
    "> **Bước 5:** Tạm thời bỏ qua hàng và cột vừa xử lý. Lặp lại các bước trên với ma trận con còn lại cho đến khi toàn bộ ma trận được đưa về dạng bậc thang.\n",
    "\n",
    "### 2. Thế ngược (Back Substitution)\n",
    "Sau khi có ma trận dạng bậc thang, ta có thể giải hệ phương trình bằng phương pháp thế ngược:\n",
    "\n",
    "> **Bước 1:** Bắt đầu từ hàng cuối cùng của ma trận bậc thang, nếu có hàng toàn phần tử 0 trừ phần tử cuối hàng thì kết luận vô nghiệm hoặc hàng khác không dưới cùng\n",
    "\n",
    "> **Bước 2:** Giải tìm biến tương ứng với phần tử dẫn đầu của hàng đó. \n",
    "\n",
    "> **Bước 3:** Thế giá trị của biến vừa tìm được vào phương trình ngay phía trên nó.\n",
    "\n",
    "> **Bước 4:** Lặp lại quá trình này, đi ngược lên trên cho đến khi tất cả các biến đã được giải."
   ]
  },
  {
   "cell_type": "code",
   "execution_count": 9,
   "id": "610e9acf",
   "metadata": {},
   "outputs": [],
   "source": [
    "def print_matrix(matrix):\n",
    "    # Xử lý trường hợp ma trận rỗng\n",
    "    if not matrix or not matrix[0]:\n",
    "        print(\"[]\")\n",
    "        return\n",
    "\n",
    "    str_matrix = [[str(item) for item in row] for row in matrix]\n",
    "\n",
    "    num_cols = len(str_matrix[0])\n",
    "    col_widths = [0] * num_cols\n",
    "    for j in range(num_cols):\n",
    "        max_len = max(len(row[j]) for row in str_matrix)\n",
    "        col_widths[j] = max_len\n",
    "\n",
    "    # In ma trận đã được định dạng\n",
    "    num_rows = len(str_matrix)\n",
    "    for i, row in enumerate(str_matrix):\n",
    "        line_str = \"  \"\n",
    "        \n",
    "        if i == 0:\n",
    "            line_str += '┌'\n",
    "        elif i == num_rows - 1:\n",
    "            line_str += '└'\n",
    "        else:\n",
    "            line_str += '│'\n",
    "        \n",
    "        line_str += ' '\n",
    "        \n",
    "        for j, element in enumerate(row):\n",
    "            line_str += element.rjust(col_widths[j]) + '  '\n",
    "            \n",
    "        line_str = line_str.rstrip()\n",
    "        line_str += ' '\n",
    "\n",
    "        if i == 0:\n",
    "            line_str += '┐'\n",
    "        elif i == num_rows - 1:\n",
    "            line_str += '┘'\n",
    "        else:\n",
    "            line_str += '│'\n",
    "        \n",
    "        print(line_str)"
   ]
  },
  {
   "cell_type": "markdown",
   "id": "76c1ab59",
   "metadata": {},
   "source": [
    "### Bài 1: Hàm `Gauss_elimination(A)`"
   ]
  },
  {
   "cell_type": "code",
   "execution_count": 10,
   "id": "10619ba5",
   "metadata": {},
   "outputs": [
    {
     "name": "stdout",
     "output_type": "stream",
     "text": [
      "Ma trận ban đầu:\n",
      "  ┌  0.6666666666666666  -0.25                 -0.5  0 ┐\n",
      "  │ -0.3333333333333333   0.75  -0.3333333333333333  0 │\n",
      "  └ -0.3333333333333333   -0.5   0.8333333333333334  0 ┘\n",
      "Ma trận sau khi khử Gauss:\n",
      "  ┌ 1.0  -0.375                -0.75  0.0 ┐\n",
      "  │ 0.0     1.0  -0.9333333333333332  0.0 │\n",
      "  └ 0.0     0.0                  1.0  0.0 ┘\n"
     ]
    }
   ],
   "source": [
    "def gauss_elimination(A):      \n",
    "    A = [row[:] for row in A]\n",
    "    n = len(A)\n",
    "    m = len(A[0])\n",
    "    \n",
    "    row = 0\n",
    "    for col in range(m):\n",
    "        if row >= n:\n",
    "            break\n",
    "\n",
    "        # Tìm hàng có giá trị lớn nhất trong cột col từ hàng row đến n\n",
    "        max_row = None\n",
    "        for r in range(row, n):\n",
    "            if A[r][col] != 0:\n",
    "                max_row = r\n",
    "                break\n",
    "        if max_row is None:\n",
    "            continue\n",
    "        \n",
    "        # Hoán vị hàng hiện tại với hàng có giá trị lớn nhất\n",
    "        A[row], A[max_row] = A[max_row], A[row]\n",
    "        \n",
    "        # Chuẩn hóa hàng hiện tại\n",
    "        pivot = A[row][col]\n",
    "        A[row] = [val / pivot for val in A[row]]\n",
    "        \n",
    "        # Khử các hàng bên dưới hàng hiện tại\n",
    "        for r in range(row + 1, n):\n",
    "            factor = A[r][col]\n",
    "            A[r] = [A[r][c] - factor * A[row][c] for c in range(m)]\n",
    "\n",
    "        row += 1\n",
    "        \n",
    "        for i in range(n):\n",
    "            for j in range(m):\n",
    "            # Kiểm tra nếu phần tử là -0.0\n",
    "                if A[i][j] == -0.0:\n",
    "                    # Gán lại giá trị là 0.0\n",
    "                    A[i][j] = 0.0\n",
    "\n",
    "    return A\n",
    "\n",
    "A = [[2/3,-1/4,-1/2,0],\n",
    "     [-1/3,3/4,-1/3,0],\n",
    "     [-1/3,-1/2,5/6,0]]\n",
    "print('Ma trận ban đầu:')\n",
    "print_matrix(A) \n",
    "A = gauss_elimination(A)\n",
    "print('Ma trận sau khi khử Gauss:')\n",
    "print_matrix(A)  "
   ]
  },
  {
   "cell_type": "markdown",
   "id": "5abb4e89",
   "metadata": {},
   "source": [
    "### Bài 02: Hàm `back_substitution(A)`"
   ]
  },
  {
   "cell_type": "code",
   "execution_count": 11,
   "id": "ba0f0091",
   "metadata": {},
   "outputs": [
    {
     "name": "stdout",
     "output_type": "stream",
     "text": [
      "Hệ phương trình có nghiệm duy nhất: [0.0, 0.0, 0.0]\n"
     ]
    }
   ],
   "source": [
    "import sympy\n",
    "def back_substitution(A):\n",
    "    m, n = len(A), len(A[0]) \n",
    "    \n",
    "    # Nghiệm\n",
    "    sol = [None for _ in range(n - 1)]\n",
    "    \n",
    "    # Tìm hàng cuối cùng không phải là hàng 0\n",
    "    row = m - 1\n",
    "    while row >= 0 and all(A[row][j] == 0 for j in range(n)):\n",
    "        row -= 1\n",
    "    \n",
    "    if row >= 0 and [A[row][j] != 0 for j in range(n)].index(True) == n - 1:\n",
    "        return None # Vô nghiệm\n",
    "    \n",
    "    last_pcol = n - 1\n",
    "    while row >= 0:\n",
    "        pcol = [A[row][j] != 0 for j in range(n)].index(True)\n",
    "        for i in range(pcol, last_pcol):\n",
    "            sol[i] = sympy.symbols(f\"x{i + 1}\")\n",
    "        sol[pcol] = (A[row][n - 1] - sum(A[row][j]*sol[j] for j in range(pcol + 1, n - 1)))/A[row][pcol]\n",
    "        last_pcol = pcol\n",
    "        row -= 1\n",
    "    \n",
    "    # Đặt các biến tự do\n",
    "    for i in range(0, last_pcol):\n",
    "        sol[i] = sympy.symbols(f\"x{i + 1}\")\n",
    "\n",
    "    return sol\n",
    "\n",
    "sol = back_substitution(A)\n",
    "if not sol:\n",
    "    print(\"Hệ phương trình vô nghiệm\")\n",
    "elif all(not isinstance(s, sympy.Symbol) for s in sol):\n",
    "    print(\"Hệ phương trình có nghiệm duy nhất:\", sol)\n",
    "else:\n",
    "    print(\"Hệ phương trình có nghiệm tổng quát:\", sol)"
   ]
  },
  {
   "cell_type": "markdown",
   "id": "ab97b67e",
   "metadata": {},
   "source": [
    "### Bài 03 (Mở rộng): So sánh với thư viện `SymPy`"
   ]
  },
  {
   "cell_type": "code",
   "execution_count": 12,
   "id": "30331629",
   "metadata": {},
   "outputs": [
    {
     "name": "stdout",
     "output_type": "stream",
     "text": [
      "Dạng bậc thang rút gọn (RREF) bằng thư viện SymPy (M.rref()):\n"
     ]
    },
    {
     "data": {
      "text/latex": [
       "$\\displaystyle \\left[\\begin{matrix}1 & 3.0 & 0 & 0 & 2.0 & 0 & 0\\\\0 & 0 & 1 & 0 & 0 & 0 & 0\\\\0 & 0 & 0 & 1 & 0 & 0 & 0\\\\0 & 0 & 0 & 0 & 0 & 1 & 0\\end{matrix}\\right]$"
      ],
      "text/plain": [
       "Matrix([\n",
       "[1, 3.0, 0, 0, 2.0, 0, 0],\n",
       "[0,   0, 1, 0,   0, 0, 0],\n",
       "[0,   0, 0, 1,   0, 0, 0],\n",
       "[0,   0, 0, 0,   0, 1, 0]])"
      ]
     },
     "metadata": {},
     "output_type": "display_data"
    },
    {
     "name": "stdout",
     "output_type": "stream",
     "text": [
      "\n",
      "Dạng bậc thang bằng hàm tự viết (gauss_elimination):\n"
     ]
    },
    {
     "data": {
      "text/latex": [
       "$\\displaystyle \\left[\\begin{matrix}1.0 & 3.0 & -2.5 & 0.0 & 2.0 & 0.0 & 0.0\\\\0.0 & 0.0 & 1.0 & 2.0 & 0.0 & 3.0 & 0.0\\\\0.0 & 0.0 & 0.0 & 1.0 & 0.0 & 1.5 & 0.0\\\\0.0 & 0.0 & 0.0 & 0.0 & 0.0 & 1.0 & 0.0\\end{matrix}\\right]$"
      ],
      "text/plain": [
       "Matrix([\n",
       "[1.0, 3.0, -2.5, 0.0, 2.0, 0.0, 0.0],\n",
       "[0.0, 0.0,  1.0, 2.0, 0.0, 3.0, 0.0],\n",
       "[0.0, 0.0,  0.0, 1.0, 0.0, 1.5, 0.0],\n",
       "[0.0, 0.0,  0.0, 0.0, 0.0, 1.0, 0.0]])"
      ]
     },
     "metadata": {},
     "output_type": "display_data"
    },
    {
     "name": "stdout",
     "output_type": "stream",
     "text": [
      "\n",
      "Nghiệm của hệ phương trình bằng thư viện SymPy (linsolve):\n"
     ]
    },
    {
     "data": {
      "text/latex": [
       "$\\displaystyle \\left\\{\\left( - 3.0 x_{2} - 2.0 x_{5}, \\  x_{2}, \\  0, \\  0, \\  x_{5}, \\  0\\right)\\right\\}$"
      ],
      "text/plain": [
       "{(-3.0*x2 - 2.0*x5, x2, 0, 0, x5, 0)}"
      ]
     },
     "metadata": {},
     "output_type": "display_data"
    },
    {
     "name": "stdout",
     "output_type": "stream",
     "text": [
      "\n",
      "Nghiệm của hệ phương trình bằng hàm tự viết (back_substitution):\n"
     ]
    },
    {
     "data": {
      "text/plain": [
       "[-3.0*x2 - 2.0*x5, x2, 0, 0, x5, 0.0]"
      ]
     },
     "metadata": {},
     "output_type": "display_data"
    },
    {
     "name": "stdout",
     "output_type": "stream",
     "text": [
      "\n",
      "Nhận xét: \n",
      "- Kết quả về dạng bậc thang có sự khác biệt do hàm tự viết tạo ra dạng bậc thang, trong khi thư viện SymPy tạo ra dạng bậc thang rút gọn (có thêm bước khử các phần tử phía trên pivot). \n",
      "- Tuy nhiên, nghiệm tổng quát của hệ phương trình tìm được từ hai phương pháp là tương đương nhau.\n"
     ]
    }
   ],
   "source": [
    "import sympy\n",
    "from IPython.display import display\n",
    "\n",
    "# Ma trận gốc\n",
    "A_orig = [[1, 3, -2.5,  0, 2,  0, 0],\n",
    "          [2, 6, -5, -2, 4, -3, 0],\n",
    "          [0, 0,  5, 10, 0, 15, 0],\n",
    "          [2, 6,  0,  8, 4, 18, 0]]\n",
    "\n",
    "# Tạo ma trận SymPy\n",
    "M = sympy.Matrix(A_orig)\n",
    "\n",
    "# 1. So sánh dạng bậc thang rút gọn (Reduced Row Echelon Form - RREF)\n",
    "print(\"Dạng bậc thang rút gọn (RREF) bằng thư viện SymPy (M.rref()):\")\n",
    "rref_sympy, pivot_cols_sympy = M.rref()\n",
    "display(rref_sympy)\n",
    "\n",
    "print(\"\\nDạng bậc thang bằng hàm tự viết (gauss_elimination):\")\n",
    "A_echelon = gauss_elimination(A_orig)\n",
    "display(sympy.Matrix(A_echelon))\n",
    "\n",
    "# 2. So sánh nghiệm\n",
    "print(\"\\nNghiệm của hệ phương trình bằng thư viện SymPy (linsolve):\")\n",
    "# Định nghĩa các biến tượng trưng\n",
    "x1, x2, x3, x4, x5, x6 = sympy.symbols('x1, x2, x3, x4, x5, x6')\n",
    "solution_sympy = sympy.linsolve(M, x1, x2, x3, x4, x5, x6)\n",
    "display(solution_sympy)\n",
    "\n",
    "print(\"\\nNghiệm của hệ phương trình bằng hàm tự viết (back_substitution):\")\n",
    "solution = back_substitution(A_echelon)\n",
    "display(solution)\n",
    "\n",
    "print(\"\\nNhận xét: \\n- Kết quả về dạng bậc thang có sự khác biệt do hàm tự viết tạo ra dạng bậc thang, trong khi thư viện SymPy tạo ra dạng bậc thang rút gọn (có thêm bước khử các phần tử phía trên pivot). \\n- Tuy nhiên, nghiệm tổng quát của hệ phương trình tìm được từ hai phương pháp là tương đương nhau.\")"
   ]
  },
  {
   "cell_type": "markdown",
   "id": "9b6088ae",
   "metadata": {},
   "source": [
    "## Ý tưởng thực hiện và mô tả các hàm\n",
    "\n",
    "#### `gauss_elimination(A)`\n",
    "- **Ý tưởng:** Hàm này mô phỏng lại quá trình khử Gauss thủ công để đưa một ma trận về dạng bậc thang. Nó không sử dụng các hàm có sẵn của thư viện để tìm trực tiếp dạng bậc thang.\n",
    "- **Mô tả hoạt động:**\n",
    "  1. Hàm nhận đầu vào là một ma trận `A` (dưới dạng mảng 2 chiều).\n",
    "  2. Hàm sử dụng hai con trỏ, `pivot_row` và `pivot_col`, để duyệt qua ma trận. `pivot_row` chỉ những hàng đã được xử lý xong.\n",
    "  3. Tại mỗi cột `pivot_col`, hàm tìm hàng có phần tử trục (pivot) với giá trị tuyệt đối lớn nhất (kỹ thuật *partial pivoting*). Việc này giúp tăng độ ổn định của thuật toán, tránh sai số do chia cho một số rất nhỏ.\n",
    "  4. Hàng tìm được sẽ được hoán vị với hàng `pivot_row` hiện tại.\n",
    "  5. Nếu phần tử pivot tại `(pivot_row, pivot_col)` khác 0, toàn bộ hàng `pivot_row` được chia cho giá trị của pivot để tạo ra một số 1 dẫn đầu.\n",
    "  6. Sau đó, hàm thực hiện các phép biến đổi dòng: với mỗi hàng bên dưới `pivot_row`, nó sẽ trừ đi một bội số thích hợp của `pivot_row` để các phần tử trong `pivot_col` (bên dưới pivot) trở thành 0.\n",
    "  7. Con trỏ `pivot_row` được tăng lên 1, và quá trình lặp lại cho cột tiếp theo.\n",
    "  8. Cuối cùng, hàm trả về ma trận đã ở dạng bậc thang.\n",
    "\n",
    "#### `back_substitution(A)`\n",
    "- **Ý tưởng:** Hàm này thực hiện giải một hệ phương trình tuyến tính từ ma trận mở rộng đã ở dạng bậc thang. Nó xác định nghiệm duy nhất, vô số nghiệm hay vô nghiệm.\n",
    "- **Mô tả hoạt động:**\n",
    "  1. Hàm nhận đầu vào là ma trận bậc thang `A`.\n",
    "  2. **Kiểm tra vô nghiệm:** Bước đầu tiên là kiểm tra sự tồn tại của một hàng có dạng `[0, 0, ..., 0 | k]` với `k ≠ 0`. Nếu có, hệ phương trình vô nghiệm và hàm trả về một thông báo tương ứng.\n",
    "  3. **Xác định biến tự do:** Hàm xác định các cột pivot (cột chứa phần tử 1 dẫn đầu của một hàng). Các cột không phải là cột pivot tương ứng với các biến tự do. \n",
    "  4. **Xử lý vô số nghiệm:** Nếu có biến tự do, hệ có vô số nghiệm. Hàm sử dụng thư viện `sympy` để tạo các ký hiệu tượng trưng (ví dụ `x1`, `x2`) cho các biến tự do này. Vector nghiệm ban đầu sẽ chứa các ký hiệu này.\n",
    "  5. **Thế ngược:** Hàm bắt đầu từ hàng khác không cuối cùng của ma trận và đi ngược lên trên.\n",
    "  6. Tại mỗi hàng, nó giải tìm biến ứng với cột pivot của hàng đó. Giá trị của biến này được tính bằng cách lấy giá trị ở cột cuối cùng (cột hệ số tự do) trừ đi tổng của các (hệ số * giá trị biến) ở các cột bên phải. Các giá trị biến này đã được tính ở các bước trước hoặc là các biến tự do.\n",
    "  7. Quá trình tiếp tục cho đến khi tất cả các biến pivot được giải. Kết quả trả về là một vector nghiệm. Vector này có thể chứa các giá trị số (nếu nghiệm duy nhất) hoặc các biểu thức `sympy` (nếu vô số nghiệm)."
   ]
  }
 ],
 "metadata": {
  "kernelspec": {
   "display_name": "Python 3",
   "language": "python",
   "name": "python3"
  },
  "language_info": {
   "codemirror_mode": {
    "name": "ipython",
    "version": 3
   },
   "file_extension": ".py",
   "mimetype": "text/x-python",
   "name": "python",
   "nbconvert_exporter": "python",
   "pygments_lexer": "ipython3",
   "version": "3.11.9"
  }
 },
 "nbformat": 4,
 "nbformat_minor": 5
}
